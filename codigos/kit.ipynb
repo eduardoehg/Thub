{
 "cells": [
  {
   "cell_type": "code",
   "execution_count": 3,
   "metadata": {},
   "outputs": [],
   "source": [
    "import pandas as pd"
   ]
  },
  {
   "cell_type": "code",
   "execution_count": 4,
   "metadata": {},
   "outputs": [],
   "source": [
    "tiny = pd.read_excel('MARCOS ID.xls') #  MUDAR NOME PARA A PLANILHA DO TINY COM IDS\n",
    "kit = pd.read_excel('Tabela Kits MARCOS.xlsx') #  MUDAR NOME DA PLANILHA COM OS KITS FORMADOS\n"
   ]
  },
  {
   "cell_type": "code",
   "execution_count": null,
   "metadata": {},
   "outputs": [],
   "source": [
    "for indice, linha in kit.iterrows():\n",
    "    sku_kit = linha['SKU kit/fabricado']\n",
    "    sku_componente = linha['SKU componente']\n",
    "\n",
    "    resultado_kit = tiny.loc[tiny['Código (SKU)'] == sku_kit, 'ID'].values\n",
    "\n",
    "    if len(resultado_kit) > 0:\n",
    "        id_kit = resultado_kit[0]\n",
    "        kit.at[indice, 'ID kit/fabricado'] = id_kit\n",
    "    else:\n",
    "        print(f'SKU {sku_kit} não encontrado no tiny')\n",
    "\n",
    "    resultado_componente = tiny.loc[tiny['Código (SKU)'] == sku_componente, 'ID'].values\n",
    "\n",
    "    if len(resultado_componente) > 0:\n",
    "        id_componente = resultado_componente[0]\n",
    "        kit.at[indice, 'ID componente'] = id_componente\n",
    "    else:\n",
    "        print(f'SKU {sku_componente} não encontrado no tiny')\n",
    "\n",
    "kit.to_excel('Tabela KIT FORMADO MARCOS.xlsx', index=False) #  MUDAR NOME DA PLANILHA FINAL COM IDS ADICIONADOS\n"
   ]
  }
 ],
 "metadata": {
  "kernelspec": {
   "display_name": "venv",
   "language": "python",
   "name": "python3"
  },
  "language_info": {
   "codemirror_mode": {
    "name": "ipython",
    "version": 3
   },
   "file_extension": ".py",
   "mimetype": "text/x-python",
   "name": "python",
   "nbconvert_exporter": "python",
   "pygments_lexer": "ipython3",
   "version": "3.10.4"
  }
 },
 "nbformat": 4,
 "nbformat_minor": 2
}
