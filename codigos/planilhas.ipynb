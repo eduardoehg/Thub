{
 "cells": [
  {
   "cell_type": "code",
   "execution_count": 8,
   "metadata": {},
   "outputs": [],
   "source": [
    "import pandas as pd"
   ]
  },
  {
   "cell_type": "code",
   "execution_count": 9,
   "metadata": {},
   "outputs": [],
   "source": [
    "produtos = pd.read_excel('tiny_produtos.xls')\n",
    "kit = pd.read_excel('tiny_kit.xls')\n",
    "\n",
    "excel = 'Planilha - Caroline Santos.xlsx' #  TROCAR NOME DA PLANILHA\n",
    "base = pd.ExcelFile(excel)\n",
    "\n",
    "base_produtos = base.parse('PRODUTOS', header=1)\n",
    "base_kit = base.parse('COMPONENTES', header=1)\n"
   ]
  },
  {
   "cell_type": "code",
   "execution_count": 10,
   "metadata": {},
   "outputs": [],
   "source": [
    "def preencher(id=None, sku=None, descricao=None, unidade=None, ncm=None, origem=None, preco=None, preco_custo=None, gtin=None, tipo=None, cod_pai=None, variacao=None):\n",
    "    return {\n",
    "        'ID': id,\n",
    "        'Código (SKU)': sku,\n",
    "        'Descrição': descricao,\n",
    "        'Unidade': unidade,\n",
    "        'NCM (Classificação fiscal)': ncm,\n",
    "        'Origem': origem,\n",
    "        'Preço': preco,\n",
    "        'Preço de custo': preco_custo,\n",
    "        'Situação': 'Ativo',\n",
    "        'GTIN/EAN': gtin,\n",
    "        'Tipo do produto': tipo,\n",
    "        'Código do pai': cod_pai,\n",
    "        'Variações': variacao,\n",
    "        'Sob encomenda': 'Não',\n",
    "        'Controlar lotes': 'Não'\n",
    "    }\n",
    "\n",
    "def montar_kit(sku, descricao):\n",
    "    lista = list()\n",
    "    linhas_filtradas = base_kit.loc[base_kit['Código (SKU)'] == sku, 'Linha'].values\n",
    "    if len(linhas_filtradas) > 0:\n",
    "        indice_linha = linhas_filtradas[0]\n",
    "        linhas = base_kit['Linha'].tolist()\n",
    "\n",
    "        while True:\n",
    "            indice_linha += 1\n",
    "            if indice_linha not in linhas:\n",
    "                return lista\n",
    "            tipo, sku_componente, quantidade = base_kit.loc[base_kit['Linha'] == indice_linha, ['Tipo do produto', 'Código (SKU)', 'Quantidade']].values[0]\n",
    "            descricao_componente = base_produtos.loc[base_produtos['SKU'] == sku_componente, 'Nome'].values[0]\n",
    "            if tipo == 'COMPONENTE':\n",
    "                lista.append({\n",
    "                    'ID kit/fabricado': None,\n",
    "                    'SKU kit/fabricado': sku,\n",
    "                    'Descrição kit/fabricado': descricao,\n",
    "                    'ID componente': None,\n",
    "                    'SKU componente': sku_componente,\n",
    "                    'Descrição componente': descricao_componente,\n",
    "                    'Quantidade componente': quantidade\n",
    "                })\n",
    "            else:\n",
    "                return lista\n",
    "    else:\n",
    "        return lista\n"
   ]
  },
  {
   "cell_type": "code",
   "execution_count": 11,
   "metadata": {},
   "outputs": [],
   "source": [
    "dados = list()\n",
    "lista = list()\n",
    "sku_pai = None\n",
    "descricao_pai = None\n",
    "\n",
    "for indice, linha in base_produtos.iterrows():\n",
    "    sku = linha['SKU']\n",
    "    descricao = linha['Nome']\n",
    "    unidade = linha['UN']\n",
    "    ncm = linha['NCM']\n",
    "    origem = linha['Origem']\n",
    "    preco = linha['Preço de Venda']\n",
    "    custo = linha['Preço de custo']\n",
    "    ean = linha['GTIN/EAN']\n",
    "\n",
    "    if linha['Tipo do produto'] == 'SIMPLES':\n",
    "        resultado = preencher(sku=sku, descricao=descricao, unidade=unidade, ncm=ncm, origem=origem, preco=preco, preco_custo=custo, gtin=ean, tipo='S')\n",
    "        dados.append(resultado)\n",
    "\n",
    "    elif linha['Tipo do produto'] == 'VARIAÇÃO PAI':\n",
    "        sku_pai = linha['SKU']\n",
    "        descricao_pai = linha['Nome']\n",
    "\n",
    "        resultado = preencher(sku=sku, descricao=descricao, unidade=unidade, ncm=ncm, origem=origem, preco=preco, preco_custo=custo, gtin=ean, tipo='V')\n",
    "        dados.append(resultado)\n",
    "\n",
    "    elif linha['Tipo do produto'] == 'VARIAÇÃO':\n",
    "        resultado = preencher(sku=sku, descricao=descricao_pai, unidade=unidade, ncm=ncm, origem=origem, preco=preco, preco_custo=custo, gtin=ean, tipo='S', cod_pai=sku_pai, variacao=descricao)\n",
    "        dados.append(resultado)\n",
    "\n",
    "    elif linha['Tipo do produto'] == 'KIT':\n",
    "        resultado = preencher(sku=sku, descricao=descricao, unidade='KIT', ncm=ncm, origem=origem, preco=preco, preco_custo=custo, gtin=ean, tipo='K')\n",
    "        dados.append(resultado)\n",
    "        \n",
    "        info = montar_kit(sku, descricao)\n",
    "        lista.extend(info)\n",
    "\n",
    "    elif linha['Tipo do produto'] == 'VARIAÇÃO KIT':\n",
    "        resultado = preencher(sku=sku, descricao=descricao_pai, unidade='KIT', ncm=ncm, origem=origem, preco=preco, preco_custo=custo, gtin=ean, tipo='K', cod_pai=sku_pai, variacao=descricao)\n",
    "        dados.append(resultado)\n",
    "\n",
    "        info = montar_kit(sku, descricao)\n",
    "        lista.extend(info)\n",
    "\n",
    "    else:\n",
    "        print(f'O produto {linha[\"Nome\"]} não foi inserido na tabela!')\n"
   ]
  },
  {
   "cell_type": "code",
   "execution_count": 12,
   "metadata": {},
   "outputs": [
    {
     "name": "stderr",
     "output_type": "stream",
     "text": [
      "C:\\Users\\eduar\\AppData\\Local\\Temp\\ipykernel_14432\\559505664.py:2: FutureWarning: The behavior of DataFrame concatenation with empty or all-NA entries is deprecated. In a future version, this will no longer exclude empty or all-NA columns when determining the result dtypes. To retain the old behavior, exclude the relevant entries before the concat operation.\n",
      "  tiny_produtos = pd.concat([produtos, tabela])\n"
     ]
    }
   ],
   "source": [
    "tabela = pd.DataFrame(dados)\n",
    "tiny_produtos = pd.concat([produtos, tabela])\n",
    "tiny_produtos.to_excel('Tabela CAROL.xlsx', index=False) #  MUDAR NOME DA PLANILHA DE PRODUTOS\n",
    "\n",
    "if lista:\n",
    "    kits = pd.DataFrame(lista)\n",
    "    tiny_kit = pd.concat([kit, kits])\n",
    "    tiny_kit.to_excel('Tabela Kits MARCOS.xlsx', index=False) #  MUDAR NOME DA PLANILHA DE KITS\n"
   ]
  }
 ],
 "metadata": {
  "kernelspec": {
   "display_name": "venv",
   "language": "python",
   "name": "python3"
  },
  "language_info": {
   "codemirror_mode": {
    "name": "ipython",
    "version": 3
   },
   "file_extension": ".py",
   "mimetype": "text/x-python",
   "name": "python",
   "nbconvert_exporter": "python",
   "pygments_lexer": "ipython3",
   "version": "3.10.4"
  }
 },
 "nbformat": 4,
 "nbformat_minor": 2
}
